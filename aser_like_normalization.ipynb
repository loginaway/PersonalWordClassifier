{
 "cells": [
  {
   "cell_type": "markdown",
   "metadata": {},
   "source": [
    "# ASER-like normalization example\n",
    "\n",
    "This is an example showing the ASER-like normalization, which conducts ASER-like personal word normalization on a piece of free-text."
   ]
  },
  {
   "cell_type": "code",
   "execution_count": 1,
   "metadata": {},
   "outputs": [],
   "source": [
    "import normalization\n",
    "from corenlp_utils import *"
   ]
  },
  {
   "cell_type": "code",
   "execution_count": 2,
   "metadata": {},
   "outputs": [],
   "source": [
    "nmlzer = normalization.ParsingBasedNormalizer()"
   ]
  },
  {
   "cell_type": "markdown",
   "metadata": {},
   "source": [
    "##### Start stanfordcorenlp server"
   ]
  },
  {
   "cell_type": "markdown",
   "metadata": {},
   "source": [
    "First, we need to start the stanford-corenlp server for parsing texts. You may run `start_corenlp_server.sh` to start the stanford-core-nlp server.\n",
    "\n",
    "After it successfully started, you may run the following code to process sentences.  \n",
    "Make sure the paths and ports below and in your `start_corenlp_server.sh` are the same."
   ]
  },
  {
   "cell_type": "code",
   "execution_count": 3,
   "metadata": {},
   "outputs": [],
   "source": [
    "# stanford-corenlp path and port \n",
    "# for instance, download the stanfordcorenlp from https://nlp.stanford.edu/software/stanford-corenlp-latest.zip and extract,\n",
    "# the path can set to the extracted folder (/path/to/stanford-corenlp-4.4.0)\n",
    "STANFORD_CORENLP_PATH = \"/home/ubuntu/stanfordcorenlp/stanford-corenlp-4.4.0\"\n",
    "STANFORD_CORENLP_PORT = 10086"
   ]
  },
  {
   "cell_type": "code",
   "execution_count": 4,
   "metadata": {},
   "outputs": [
    {
     "name": "stderr",
     "output_type": "stream",
     "text": [
      "2022-04-25 11:22:29 WARNING: Setting 'start_server' to a boolean value when constructing CoreNLPClient is deprecated and will stop to function in a future version of stanza. Please consider switching to using a value from stanza.server.StartServer.\n"
     ]
    }
   ],
   "source": [
    "annotators = [\"tokenize\", \"ssplit\", \"pos\", \"lemma\", \"ner\", \"parse\"]\n",
    "# annotators = [\"tokenize\", \"ssplit\", \"pos\", \"lemma\", \"ner\", \"parse\", \"coref\"]\n",
    "corenlp_client, _ = get_corenlp_client(\n",
    "    corenlp_path=STANFORD_CORENLP_PATH, corenlp_port=STANFORD_CORENLP_PORT, annotators=annotators\n",
    ")"
   ]
  },
  {
   "cell_type": "code",
   "execution_count": 5,
   "metadata": {},
   "outputs": [],
   "source": [
    "doc = \"He knows his weakness.\"\n",
    "res = parse_sentence(doc, corenlp_client, annotators)\n",
    "parsed_result = res['parsed_info']"
   ]
  },
  {
   "cell_type": "code",
   "execution_count": 6,
   "metadata": {},
   "outputs": [
    {
     "data": {
      "text/plain": [
       "[{'text': 'He knows his weakness.',\n",
       "  'words': ['he', 'know', 'he', 'weakness', '.'],\n",
       "  'pos_tags': ['PRP', 'VBZ', 'PRP$', 'NN', '.'],\n",
       "  'dependencies': [((1, 'knows', 'VBZ'), 'nsubj', (0, 'He', 'PRP')),\n",
       "   ((1, 'knows', 'VBZ'), 'obj', (3, 'weakness', 'NN')),\n",
       "   ((1, 'knows', 'VBZ'), 'punct', (4, '.', '.')),\n",
       "   ((3, 'weakness', 'NN'), 'nmod:poss', (2, 'his', 'PRP$'))],\n",
       "  'lemmas': ['he', 'know', 'he', 'weakness', '.'],\n",
       "  'ners': ['O', 'O', 'O', 'O', 'O'],\n",
       "  'mentions': {},\n",
       "  'parse': '(ROOT (S (NP (PRP He)) (VP (VBZ knows) (NP (PRP$ his) (NN weakness))) (. .)))'}]"
      ]
     },
     "execution_count": 6,
     "metadata": {},
     "output_type": "execute_result"
    }
   ],
   "source": [
    "parsed_result"
   ]
  },
  {
   "cell_type": "markdown",
   "metadata": {},
   "source": [
    "Finally, lets run the normalization.  \n",
    "The returning `person_spans` contains all the spans identified as person/people.  \n",
    "The `coref` contains the coreference relationships between different personal spans.  \n",
    "For instance, in the following example, there are two mentions for `P0`, i.e. \"he\" at (0, 1) and \"his\" at (2, 3)."
   ]
  },
  {
   "cell_type": "code",
   "execution_count": 7,
   "metadata": {},
   "outputs": [
    {
     "name": "stdout",
     "output_type": "stream",
     "text": [
      "He knows his weakness.\n",
      "person mentions: [(((0, 1), {'target': [0], 'target_word': ['he']}, ['he']), 'default'), (((2, 3), {'target': [2], 'target_word': ['he']}, ['he']), 'possessive')]\n",
      "coreference: {'persons': {'P0': [(((0, 1), {'target': [0], 'target_word': ['he']}, ['he']), 'default'), (((2, 3), {'target': [2], 'target_word': ['he']}, ['he']), 'possessive')]}, 'subset': []}\n",
      "\n"
     ]
    }
   ],
   "source": [
    "for info in parsed_result:\n",
    "    person_spans = nmlzer.get_personal_words(info)\n",
    "    coref = nmlzer.node_person_coref(person_spans, info)\n",
    "    print(info['text'])\n",
    "    print('person mentions:', person_spans)\n",
    "    print('coreference:', coref)\n",
    "    print()"
   ]
  }
 ],
 "metadata": {
  "interpreter": {
   "hash": "b45a24e91cc7c908b3a5a90cb95e8d5e70fa5b6973459504a1b54820663ed04f"
  },
  "kernelspec": {
   "display_name": "Python 3.8.13 ('embed')",
   "language": "python",
   "name": "python3"
  },
  "language_info": {
   "codemirror_mode": {
    "name": "ipython",
    "version": 3
   },
   "file_extension": ".py",
   "mimetype": "text/x-python",
   "name": "python",
   "nbconvert_exporter": "python",
   "pygments_lexer": "ipython3",
   "version": "3.8.13"
  },
  "orig_nbformat": 4
 },
 "nbformat": 4,
 "nbformat_minor": 2
}
